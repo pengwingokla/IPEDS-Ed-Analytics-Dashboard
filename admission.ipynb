{
 "cells": [
  {
   "cell_type": "code",
   "execution_count": 1,
   "metadata": {},
   "outputs": [],
   "source": [
    "import pandas as pd\n",
    "import matplotlib.pyplot as plt\n",
    "import seaborn as sns\n",
    "from urllib.request import urlopen\n",
    "import json\n",
    "import os\n",
    "from json import loads\n",
    "import plotly.express as px\n",
    "from dash import Dash, dcc, html, Input, Output\n"
   ]
  },
  {
   "cell_type": "markdown",
   "metadata": {},
   "source": [
    "Helper functions to search for school"
   ]
  },
  {
   "cell_type": "code",
   "execution_count": 2,
   "metadata": {},
   "outputs": [],
   "source": [
    "school_df = pd.read_csv(\"schoolname_UNITID.csv\")\n",
    "\n",
    "def search_school(school_name):\n",
    "    # Case-insensitive search for school name\n",
    "    result = school_df[school_df[\"inst_name\"].str.contains(school_name, case=False, na=False)]\n",
    "    if result.empty:\n",
    "        print(f\"No matches found for '{school_name}'.\")\n",
    "    return result\n",
    "\n",
    "def get_school_name(unitid):\n",
    "    # Fetch school directory data\n",
    "    url = f\"https://educationdata.urban.org/api/v1/college-university/ipeds/directory/2020/?unitid={unitid}\"\n",
    "    response = urlopen(url)\n",
    "    data = loads(response.read())\n",
    "    \n",
    "    results = data.get(\"results\", [])\n",
    "    if results:\n",
    "        school_name = results[0].get(\"inst_name\", \"Unknown\")\n",
    "        return school_name\n",
    "    else:\n",
    "        return f\"No school found for unitid {unitid}\"\n",
    "\n",
    "def search_school_by_state(state_abbr):\n",
    "    \"\"\"Search for schools in a given state (by abbreviation) and return a DataFrame with unitid and school name.\n",
    "    \"\"\"\n",
    "    url = \"https://educationdata.urban.org/api/v1/college-university/ipeds/directory/2020/\"\n",
    "    \n",
    "    try:\n",
    "        response = urlopen(url)\n",
    "        data = loads(response.read())\n",
    "        results = data.get(\"results\", [])\n",
    "        \n",
    "        if not results:\n",
    "            print(f\"No schools found.\")\n",
    "            return pd.DataFrame()\n",
    "        \n",
    "        # Filter results manually based on state_abbr\n",
    "        filtered_results = [\n",
    "            {\"unitid\": result.get(\"unitid\"), \"school_name\": result.get(\"inst_name\", \"Unknown\")}\n",
    "            for result in results if result.get(\"state_abbr\") == state_abbr.upper()\n",
    "        ]\n",
    "        \n",
    "        if not filtered_results:\n",
    "            print(f\"No schools found in {state_abbr}.\")\n",
    "            return pd.DataFrame()\n",
    "        \n",
    "        return pd.DataFrame(filtered_results)\n",
    "    \n",
    "    except Exception as e:\n",
    "        print(f\"Error fetching data: {e}\")\n",
    "        return pd.DataFrame()"
   ]
  },
  {
   "cell_type": "markdown",
   "metadata": {},
   "source": []
  },
  {
   "cell_type": "code",
   "execution_count": null,
   "metadata": {},
   "outputs": [],
   "source": [
    "def create_variable_mapping(excel_path, sheet_name=\"varlist\"):\n",
    "    \"\"\"\n",
    "    Reads an Excel file from the 'varlist' sheet and extracts 'varname' and 'varTitle' columns to create a mapping.\n",
    "    \"\"\"\n",
    "    df = pd.read_excel(excel_path, sheet_name=sheet_name)\n",
    "\n",
    "    if \"varname\" not in df.columns or \"varTitle\" not in df.columns:\n",
    "        raise ValueError(\"Required columns 'varname' and 'varTitle' not found in the Excel file.\")\n",
    "\n",
    "    mapping = {row[\"varname\"]: row[\"varTitle\"].replace(\" \", \"_\") for _, row in df.iterrows()}\n",
    "    return mapping\n"
   ]
  },
  {
   "cell_type": "code",
   "execution_count": 9,
   "metadata": {},
   "outputs": [
    {
     "name": "stdout",
     "output_type": "stream",
     "text": [
      "{'UNITID': 'Unique identification number of the institution', 'ADMCON1': 'Secondary school GPA', 'ADMCON2': 'Secondary school rank', 'ADMCON3': 'Secondary school record', 'ADMCON4': 'Completion of college-preparatory program', 'ADMCON5': 'Recommendations', 'ADMCON6': 'Formal demonstration of competencies', 'ADMCON7': 'Admission test scores', 'ADMCON8': 'English Proficiency Test', 'ADMCON9': 'Other Test (Wonderlic, WISC-III, etc.)', 'ADMCON10': 'Work experience', 'ADMCON11': 'Personal statement or essay', 'ADMCON12': 'Legacy status', 'APPLCN': 'Applicants total', 'APPLCNM': 'Applicants men', 'APPLCNW': 'Applicants women', 'APPLCNAN': 'Applicants another gender', 'APPLCNUN': 'Applicants gender unknown', 'ADMSSN': 'Admissions total', 'ADMSSNM': 'Admissions men', 'ADMSSNW': 'Admissions women', 'ADMSSNAN': 'Admissions another gender', 'ADMSSNUN': 'Admissions gender unknown', 'ENRLT': 'Enrolled total', 'ENRLM': 'Enrolled  men', 'ENRLW': 'Enrolled  women', 'ENRLAN': 'Enrolled another gender', 'ENRLUN': 'Enrolled gender unknown', 'ENRLFT': 'Enrolled full time total', 'ENRLFTM': 'Enrolled full time men', 'ENRLFTW': 'Enrolled full time women', 'ENRLFTAN': 'Enrolled full time another gender', 'ENRLFTUN': 'Enrolled full time gender unknown', 'ENRLPT': 'Enrolled part time total', 'ENRLPTM': 'Enrolled part time men', 'ENRLPTW': 'Enrolled part time women', 'ENRLPTAN': 'Enrolled part time another gender', 'ENRLPTUN': 'Enrolled part time gender unknown', 'SATNUM': 'Number of first-time degree/certificate-seeking students submitting SAT scores', 'SATPCT': 'Percent of first-time degree/certificate-seeking students submitting SAT scores', 'ACTNUM': 'Number of first-time degree/certificate-seeking students submitting ACT scores', 'ACTPCT': 'Percent of first-time degree/certificate-seeking students submitting ACT scores', 'SATVR25': 'SAT Evidence-Based Reading and Writing 25th percentile score', 'SATVR50': 'SAT Evidence-Based Reading and Writing 50th percentile score', 'SATVR75': 'SAT Evidence-Based Reading and Writing 75th percentile score', 'SATMT25': 'SAT Math 25th percentile score', 'SATMT50': 'SAT Math 50th percentile score', 'SATMT75': 'SAT Math 75th percentile score', 'ACTCM25': 'ACT Composite 25th percentile score', 'ACTCM50': 'ACT Composite 50th percentile score', 'ACTCM75': 'ACT Composite 75th percentile score', 'ACTEN25': 'ACT English 25th percentile score', 'ACTEN50': 'ACT English 50th percentile score', 'ACTEN75': 'ACT English 75th percentile score', 'ACTMT25': 'ACT Math 25th percentile score', 'ACTMT50': 'ACT Math 50th percentile score', 'ACTMT75': 'ACT Math 75th percentile score'}\n"
     ]
    }
   ],
   "source": [
    "mapping = create_variable_mapping(\"adm\\\\adm2023_dict.xlsx\")\n",
    "print(mapping)"
   ]
  },
  {
   "cell_type": "code",
   "execution_count": null,
   "metadata": {},
   "outputs": [],
   "source": []
  }
 ],
 "metadata": {
  "kernelspec": {
   "display_name": "base",
   "language": "python",
   "name": "python3"
  },
  "language_info": {
   "codemirror_mode": {
    "name": "ipython",
    "version": 3
   },
   "file_extension": ".py",
   "mimetype": "text/x-python",
   "name": "python",
   "nbconvert_exporter": "python",
   "pygments_lexer": "ipython3",
   "version": "3.12.7"
  }
 },
 "nbformat": 4,
 "nbformat_minor": 2
}
