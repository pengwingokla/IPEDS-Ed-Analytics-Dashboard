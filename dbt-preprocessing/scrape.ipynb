{
 "cells": [
  {
   "cell_type": "markdown",
   "id": "65f27f82",
   "metadata": {},
   "source": [
    "## Graduation data"
   ]
  },
  {
   "cell_type": "code",
   "execution_count": 9,
   "id": "5d3069ef",
   "metadata": {},
   "outputs": [
    {
     "name": "stdout",
     "output_type": "stream",
     "text": [
      "Processing /Users/uyennguyen/Projects/DA/Data-Viz-IPEDS/dbt-preprocessing/raw/gr2023dict.xlsx\n",
      "Output directory: seeds\n"
     ]
    }
   ],
   "source": [
    "import pandas as pd\n",
    "from pathlib import Path\n",
    "\n",
    "# Configuration\n",
    "EXCEL_FILE = '/Users/uyennguyen/Projects/DA/Data-Viz-IPEDS/dbt-preprocessing/raw/gr2023dict.xlsx'\n",
    "OUT_DIR = Path(\"seeds\")\n",
    "OUT_DIR.mkdir(exist_ok=True)\n",
    "\n",
    "print(f\"Processing {EXCEL_FILE}\")\n",
    "print(f\"Output directory: {OUT_DIR}\")"
   ]
  },
  {
   "cell_type": "code",
   "execution_count": 6,
   "id": "0c472928",
   "metadata": {},
   "outputs": [],
   "source": [
    "def export_varlist_columns(excel_file, out_dir):\n",
    "    \"\"\"Export variable names and titles for documentation.\"\"\"\n",
    "    varlist = pd.read_excel(excel_file, sheet_name=\"varlist\")\n",
    "    varlist = varlist[[\"varname\", \"varTitle\"]]\n",
    "    output_file = out_dir / \"varlist_columns.csv\"\n",
    "    varlist.to_csv(output_file, index=False)\n",
    "    print(f\"Exported varlist_columns.csv with {len(varlist)} rows\")\n",
    "    return varlist\n",
    "\n",
    "def export_frequency_codes(excel_file, out_dir):\n",
    "    \"\"\"Export code mappings for each variable from frequency sheet.\"\"\"\n",
    "    freq = pd.read_excel(excel_file, sheet_name=\"Frequencies\")\n",
    "    needed_cols = [\"varname\", \"codevalue\", \"valuelabel\"]\n",
    "    freq = freq[needed_cols]\n",
    "    \n",
    "    exported_count = 0\n",
    "    for var, subdf in freq.groupby(\"varname\"):\n",
    "        clean = subdf.rename(columns={\n",
    "            \"codevalue\": \"code\",\n",
    "            \"valuelabel\": \"label\"\n",
    "        })[[\"code\", \"label\"]]\n",
    "        \n",
    "        output_file = out_dir / f\"{var.lower()}_code.csv\"\n",
    "        clean.to_csv(output_file, index=False)\n",
    "        print(f\"Exported: {var.lower()}_code.csv with {len(clean)} rows\")\n",
    "        exported_count += 1\n",
    "    \n",
    "    return exported_count"
   ]
  },
  {
   "cell_type": "code",
   "execution_count": 8,
   "id": "ad804d96",
   "metadata": {},
   "outputs": [
    {
     "name": "stdout",
     "output_type": "stream",
     "text": [
      "Exported varlist_columns.csv with 36 rows\n",
      "Exported: chrtstat_code.csv with 16 rows\n",
      "Exported: cohort_code.csv with 4 rows\n",
      "Exported: grtype_code.csv with 42 rows\n",
      "Exported: line_code.csv with 17 rows\n",
      "Exported: section_code.csv with 4 rows\n",
      "\n",
      "Processing complete!\n",
      "- Exported variable list with 36 variables\n"
     ]
    }
   ],
   "source": [
    "# Execute the data processing\n",
    "varlist = export_varlist_columns(EXCEL_FILE, OUT_DIR)\n",
    "exported_count = export_frequency_codes(EXCEL_FILE, OUT_DIR)\n",
    "\n",
    "print(f\"\\nProcessing complete!\")\n",
    "print(f\"- Exported variable list with {len(varlist)} variables\")\n",
    "# print(f\"- Exported {exported_count} code mapping files\")"
   ]
  },
  {
   "cell_type": "markdown",
   "id": "ffc6f221",
   "metadata": {},
   "source": [
    "## Enrollment data"
   ]
  },
  {
   "cell_type": "code",
   "execution_count": 7,
   "id": "9e8db3e7",
   "metadata": {},
   "outputs": [
    {
     "name": "stdout",
     "output_type": "stream",
     "text": [
      "Processing /Users/uyennguyen/Projects/DA/Data-Viz-IPEDS/dbt-preprocessing/raw/effy2023dict.xlsx\n",
      "Output directory: seeds\n"
     ]
    }
   ],
   "source": [
    "import pandas as pd\n",
    "from pathlib import Path\n",
    "\n",
    "# Configuration\n",
    "EXCEL_FILE = '/Users/uyennguyen/Projects/DA/Data-Viz-IPEDS/dbt-preprocessing/raw/effy2023dict.xlsx'\n",
    "OUT_DIR = Path(\"seeds\")\n",
    "OUT_DIR.mkdir(exist_ok=True)\n",
    "\n",
    "print(f\"Processing {EXCEL_FILE}\")\n",
    "print(f\"Output directory: {OUT_DIR}\")"
   ]
  },
  {
   "cell_type": "code",
   "execution_count": 10,
   "id": "bed61876",
   "metadata": {},
   "outputs": [
    {
     "name": "stdout",
     "output_type": "stream",
     "text": [
      "Exported varlist_columns.csv with 38 rows\n",
      "Exported: effyalev_code.csv with 27 rows\n",
      "Exported: effylev_code.csv with 4 rows\n",
      "Exported: lstudy_code.csv with 3 rows\n",
      "\n",
      "Processing complete!\n",
      "- Exported variable list with 38 variables\n",
      "- Exported 3 code mapping files\n"
     ]
    }
   ],
   "source": [
    "# Execute the data processing\n",
    "varlist = export_varlist_columns(EXCEL_FILE, OUT_DIR)\n",
    "exported_count = export_frequency_codes(EXCEL_FILE, OUT_DIR)\n",
    "\n",
    "print(f\"\\nProcessing complete!\")\n",
    "print(f\"- Exported variable list with {len(varlist)} variables\")\n",
    "print(f\"- Exported {exported_count} code mapping files\")"
   ]
  },
  {
   "cell_type": "code",
   "execution_count": null,
   "id": "b943839f",
   "metadata": {},
   "outputs": [],
   "source": []
  }
 ],
 "metadata": {
  "kernelspec": {
   "display_name": ".venv",
   "language": "python",
   "name": "python3"
  },
  "language_info": {
   "codemirror_mode": {
    "name": "ipython",
    "version": 3
   },
   "file_extension": ".py",
   "mimetype": "text/x-python",
   "name": "python",
   "nbconvert_exporter": "python",
   "pygments_lexer": "ipython3",
   "version": "3.13.5"
  }
 },
 "nbformat": 4,
 "nbformat_minor": 5
}
