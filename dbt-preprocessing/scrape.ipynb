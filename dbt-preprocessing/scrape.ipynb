{
 "cells": [
  {
   "cell_type": "code",
   "execution_count": 2,
   "id": "5d3069ef",
   "metadata": {},
   "outputs": [],
   "source": [
    "import pandas as pd\n",
    "from pathlib import Path"
   ]
  },
  {
   "cell_type": "code",
   "execution_count": 9,
   "id": "0c472928",
   "metadata": {},
   "outputs": [],
   "source": [
    "excel_file = '/Users/uyennguyen/Projects/DA/Preprocessing/raw/gr2023dict.xlsx'\n",
    "\n",
    "out_dir = Path(\"seeds\")\n",
    "out_dir.mkdir(exist_ok=True)"
   ]
  },
  {
   "cell_type": "code",
   "execution_count": null,
   "id": "ad804d96",
   "metadata": {},
   "outputs": [
    {
     "name": "stdout",
     "output_type": "stream",
     "text": [
      "Exported: chrtstat_code.csv with 16 rows\n",
      "Exported: cohort_code.csv with 4 rows\n",
      "Exported: grtype_code.csv with 42 rows\n",
      "Exported: line_code.csv with 17 rows\n",
      "Exported: section_code.csv with 4 rows\n",
      "Done! CSVs saved in ./seeds/\n"
     ]
    }
   ],
   "source": [
    "# 1. Varlist sheet → column descriptions (optional, for dbt schema.yml docs)\n",
    "varlist = pd.read_excel(excel_file, sheet_name=\"varlist\")\n",
    "varlist = varlist[[\"varname\", \"varTitle\"]]\n",
    "varlist.to_csv(out_dir / \"varlist_columns.csv\", index=False)\n",
    "\n",
    "# 2. Frequency sheet → generate one CSV per variable codebook\n",
    "freq = pd.read_excel(excel_file, sheet_name=\"Frequencies\")\n",
    "\n",
    "# assumes your frequency sheet has columns like:\n",
    "# varnumber | varname | codevalue | valuelabel | frequency | percent\n",
    "# filter down to what you need\n",
    "needed_cols = [\"varname\", \"codevalue\", \"valuelabel\"]\n",
    "freq = freq[needed_cols]\n",
    "\n",
    "# group by varname and export each variable's codes\n",
    "for var, subdf in freq.groupby(\"varname\"):\n",
    "    clean = subdf.rename(columns={\n",
    "        \"codevalue\": \"code\",\n",
    "        \"valuelabel\": \"label\"\n",
    "    })[[\"code\", \"label\"]]\n",
    "    clean.to_csv(out_dir / f\"{var.lower()}_code.csv\", index=False)\n",
    "\n",
    "    print(f\"Exported: {var.lower()}_code.csv with {len(clean)} rows\")\n",
    "\n",
    "print(\"Done! CSVs saved in ./seeds/\")"
   ]
  },
  {
   "cell_type": "code",
   "execution_count": 10,
   "id": "f38a9fe2",
   "metadata": {},
   "outputs": [
    {
     "name": "stdout",
     "output_type": "stream",
     "text": [
      "Exported varlist_columns.csv with 36 rows\n"
     ]
    }
   ],
   "source": [
    "varlist = pd.read_excel(excel_file, sheet_name=\"varlist\")\n",
    "varlist = varlist[[\"varname\", \"varTitle\"]]\n",
    "varlist.to_csv(out_dir / \"varlist_columns.csv\", index=False)\n",
    "\n",
    "print(f\"Exported varlist_columns.csv with {len(varlist)} rows\")"
   ]
  },
  {
   "cell_type": "code",
   "execution_count": null,
   "id": "73f31cc3",
   "metadata": {},
   "outputs": [],
   "source": []
  }
 ],
 "metadata": {
  "kernelspec": {
   "display_name": ".venv",
   "language": "python",
   "name": "python3"
  },
  "language_info": {
   "codemirror_mode": {
    "name": "ipython",
    "version": 3
   },
   "file_extension": ".py",
   "mimetype": "text/x-python",
   "name": "python",
   "nbconvert_exporter": "python",
   "pygments_lexer": "ipython3",
   "version": "3.12.8"
  }
 },
 "nbformat": 4,
 "nbformat_minor": 5
}
