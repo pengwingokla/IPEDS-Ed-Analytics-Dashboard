{
 "cells": [
  {
   "cell_type": "code",
   "execution_count": null,
   "metadata": {},
   "outputs": [
    {
     "name": "stderr",
     "output_type": "stream",
     "text": [
      "Exception in thread Thread-19 (<lambda>):\n",
      "Traceback (most recent call last):\n",
      "  File \"c:\\Users\\thaou\\anaconda3\\Lib\\threading.py\", line 1075, in _bootstrap_inner\n",
      "    self.run()\n",
      "  File \"c:\\Users\\thaou\\anaconda3\\Lib\\threading.py\", line 1012, in run\n",
      "    self._target(*self._args, **self._kwargs)\n",
      "  File \"c:\\Users\\thaou\\anaconda3\\Lib\\site-packages\\dash\\dash.py\", line 1857, in <lambda>\n",
      "    target=lambda: _watch.watch(\n",
      "                   ^^^^^^^^^^^^^\n",
      "  File \"c:\\Users\\thaou\\anaconda3\\Lib\\site-packages\\dash\\_watch.py\", line 35, in watch\n",
      "    walk()\n",
      "  File \"c:\\Users\\thaou\\anaconda3\\Lib\\site-packages\\dash\\_watch.py\", line 20, in walk\n",
      "    info = os.stat(path)\n",
      "           ^^^^^^^^^^^^^\n",
      "FileNotFoundError: [WinError 2] The system cannot find the file specified: 'c:\\\\Users\\\\thaou\\\\anaconda3\\\\Lib\\\\site-packages\\\\dash\\\\html\\\\__pycache__\\\\Dd.cpython-312-pytest-7.4.4.pyc.4964'\n"
     ]
    }
   ],
   "source": [
    "import pandas as pd\n",
    "import matplotlib.pyplot as plt\n",
    "import seaborn as sns\n",
    "from urllib.request import urlopen\n",
    "import json\n",
    "import os\n",
    "from json import loads\n",
    "import plotly.express as px\n",
    "from dash import Dash, dcc, html, Input, Output\n"
   ]
  },
  {
   "cell_type": "markdown",
   "metadata": {},
   "source": [
    "Helper functions to search for school"
   ]
  },
  {
   "cell_type": "code",
   "execution_count": 2,
   "metadata": {},
   "outputs": [],
   "source": [
    "school_df = pd.read_csv(\"schoolname_UNITID.csv\")\n",
    "\n",
    "def search_school(school_name):\n",
    "    # Case-insensitive search for school name\n",
    "    result = school_df[school_df[\"inst_name\"].str.contains(school_name, case=False, na=False)]\n",
    "    if result.empty:\n",
    "        print(f\"No matches found for '{school_name}'.\")\n",
    "    return result\n",
    "\n",
    "def get_school_name(unitid):\n",
    "    # Fetch school directory data\n",
    "    url = f\"https://educationdata.urban.org/api/v1/college-university/ipeds/directory/2020/?unitid={unitid}\"\n",
    "    response = urlopen(url)\n",
    "    data = loads(response.read())\n",
    "    \n",
    "    results = data.get(\"results\", [])\n",
    "    if results:\n",
    "        school_name = results[0].get(\"inst_name\", \"Unknown\")\n",
    "        return school_name\n",
    "    else:\n",
    "        return f\"No school found for unitid {unitid}\"\n",
    "\n",
    "def search_school_by_city(city):\n",
    "    \"\"\" Search for schools in a given city and return a df with unitid and school name.\n",
    "    \"\"\"\n",
    "    url = f\"https://educationdata.urban.org/api/v1/college-university/ipeds/directory/2020/?city={city}\"\n",
    "    try:\n",
    "        response = urlopen(url)\n",
    "        data = loads(response.read())\n",
    "        results = data.get(\"results\", [])\n",
    "        \n",
    "        if not results:\n",
    "            print(f\"No schools found in {city}.\")\n",
    "            return pd.DataFrame()  # Return an empty DataFrame if no results are found\n",
    "        \n",
    "        # Extract unitid and school name from the results\n",
    "        school_data = []\n",
    "        for result in results:\n",
    "            unitid = result.get(\"unitid\")\n",
    "            school_name = result.get(\"inst_name\", \"Unknown\")\n",
    "            school_data.append({\"unitid\": unitid, \"school_name\": school_name})\n",
    "        \n",
    "        # Create a DataFrame from the extracted data\n",
    "        return pd.DataFrame(school_data)\n",
    "    \n",
    "    except Exception as e:\n",
    "        print(f\"Error fetching data for city {city}: {e}\")\n",
    "        return pd.DataFrame()"
   ]
  },
  {
   "cell_type": "code",
   "execution_count": 5,
   "metadata": {},
   "outputs": [
    {
     "data": {
      "text/html": [
       "<div>\n",
       "<style scoped>\n",
       "    .dataframe tbody tr th:only-of-type {\n",
       "        vertical-align: middle;\n",
       "    }\n",
       "\n",
       "    .dataframe tbody tr th {\n",
       "        vertical-align: top;\n",
       "    }\n",
       "\n",
       "    .dataframe thead th {\n",
       "        text-align: right;\n",
       "    }\n",
       "</style>\n",
       "<table border=\"1\" class=\"dataframe\">\n",
       "  <thead>\n",
       "    <tr style=\"text-align: right;\">\n",
       "      <th></th>\n",
       "      <th>unitid</th>\n",
       "      <th>school_name</th>\n",
       "    </tr>\n",
       "  </thead>\n",
       "  <tbody>\n",
       "    <tr>\n",
       "      <th>0</th>\n",
       "      <td>100654</td>\n",
       "      <td>Alabama A &amp; M University</td>\n",
       "    </tr>\n",
       "    <tr>\n",
       "      <th>1</th>\n",
       "      <td>100663</td>\n",
       "      <td>University of Alabama at Birmingham</td>\n",
       "    </tr>\n",
       "    <tr>\n",
       "      <th>2</th>\n",
       "      <td>100690</td>\n",
       "      <td>Amridge University</td>\n",
       "    </tr>\n",
       "    <tr>\n",
       "      <th>3</th>\n",
       "      <td>100706</td>\n",
       "      <td>University of Alabama in Huntsville</td>\n",
       "    </tr>\n",
       "    <tr>\n",
       "      <th>4</th>\n",
       "      <td>100724</td>\n",
       "      <td>Alabama State University</td>\n",
       "    </tr>\n",
       "    <tr>\n",
       "      <th>...</th>\n",
       "      <td>...</td>\n",
       "      <td>...</td>\n",
       "    </tr>\n",
       "    <tr>\n",
       "      <th>6435</th>\n",
       "      <td>496335</td>\n",
       "      <td>Coastline Beauty College - Hemet</td>\n",
       "    </tr>\n",
       "    <tr>\n",
       "      <th>6436</th>\n",
       "      <td>496371</td>\n",
       "      <td>Elite Welding Academy</td>\n",
       "    </tr>\n",
       "    <tr>\n",
       "      <th>6437</th>\n",
       "      <td>496380</td>\n",
       "      <td>Medspa Academies - NIMA National Institute of ...</td>\n",
       "    </tr>\n",
       "    <tr>\n",
       "      <th>6438</th>\n",
       "      <td>496414</td>\n",
       "      <td>TechSherpas 365</td>\n",
       "    </tr>\n",
       "    <tr>\n",
       "      <th>6439</th>\n",
       "      <td>496423</td>\n",
       "      <td>Zorganics Institute Beauty and Wellness</td>\n",
       "    </tr>\n",
       "  </tbody>\n",
       "</table>\n",
       "<p>6440 rows × 2 columns</p>\n",
       "</div>"
      ],
      "text/plain": [
       "      unitid                                        school_name\n",
       "0     100654                           Alabama A & M University\n",
       "1     100663                University of Alabama at Birmingham\n",
       "2     100690                                 Amridge University\n",
       "3     100706                University of Alabama in Huntsville\n",
       "4     100724                           Alabama State University\n",
       "...      ...                                                ...\n",
       "6435  496335                   Coastline Beauty College - Hemet\n",
       "6436  496371                              Elite Welding Academy\n",
       "6437  496380  Medspa Academies - NIMA National Institute of ...\n",
       "6438  496414                                    TechSherpas 365\n",
       "6439  496423            Zorganics Institute Beauty and Wellness\n",
       "\n",
       "[6440 rows x 2 columns]"
      ]
     },
     "execution_count": 5,
     "metadata": {},
     "output_type": "execute_result"
    }
   ],
   "source": [
    "search_school_by_city(\"newjersey\")"
   ]
  },
  {
   "cell_type": "markdown",
   "metadata": {},
   "source": [
    "Get a UNITIDs of New Jersey schools"
   ]
  },
  {
   "cell_type": "code",
   "execution_count": null,
   "metadata": {},
   "outputs": [
    {
     "name": "stdout",
     "output_type": "stream",
     "text": [
      "List of UNITIDs for schools in New Jersey: [185129, 185828, 186201, 186900, 187134, 187444, 445300, 453215, 482556, 486956]\n",
      "UNITID: 185129, School Name: New Jersey City University\n",
      "UNITID: 185828, School Name: New Jersey Institute of Technology\n",
      "UNITID: 186201, School Name: Ramapo College of New Jersey\n",
      "UNITID: 186900, School Name: Talmudical Academy-New Jersey\n",
      "UNITID: 187134, School Name: The College of New Jersey\n",
      "UNITID: 187444, School Name: William Paterson University of New Jersey\n",
      "UNITID: 445300, School Name: University of Phoenix-New Jersey\n",
      "UNITID: 453215, School Name: Strayer University-New Jersey\n",
      "UNITID: 482556, School Name: DeVry University-New Jersey\n",
      "UNITID: 486956, School Name: Chamberlain University-New Jersey\n"
     ]
    }
   ],
   "source": [
    "NJ_schools = search_school(\"new jersey\")\n",
    "\n",
    "if not NJ_schools.empty:\n",
    "    # Extract the list of unitid values\n",
    "    NJ_unitid_list = NJ_schools[\"unitid\"].tolist()\n",
    "    print(\"List of UNITIDs for schools in New Jersey:\", NJ_unitid_list)\n",
    "\n",
    "    # Fetch and print school names for each unitid\n",
    "    for unitid in NJ_unitid_list:\n",
    "        school_name = get_school_name(unitid)\n",
    "        print(f\"UNITID: {unitid}, School Name: {school_name}\")\n",
    "else:\n",
    "    print(\"No schools found in New Jersey.\")"
   ]
  },
  {
   "cell_type": "code",
   "execution_count": null,
   "metadata": {},
   "outputs": [],
   "source": [
    "NY_schools = search_school_by_city(\"newyork\")\n",
    "\n",
    "if not NY_schools.empty:\n",
    "    # Extract the list of unitid values\n",
    "    NY_unitid_list = NY_schools[\"unitid\"].tolist()\n",
    "    print(\"List of UNITIDs for schools in New Jersey:\", NY_unitid_list)\n",
    "\n",
    "    # Fetch and print school names for each unitid\n",
    "    for unitid in NY_unitid_list:\n",
    "        school_name = get_school_name(unitid)\n",
    "        print(f\"UNITID: {unitid}, School Name: {school_name}\")\n",
    "else:\n",
    "    print(\"No schools found in New Jersey.\")"
   ]
  },
  {
   "cell_type": "markdown",
   "metadata": {},
   "source": [
    "Process complete data files for enrollment data"
   ]
  },
  {
   "cell_type": "code",
   "execution_count": 3,
   "metadata": {},
   "outputs": [],
   "source": [
    "def process_enrollment_data(unitid, folder_path=\"effyYEAR\"):\n",
    "    \"\"\"\n",
    "    Process enrollment data for a given unitid and return the results as a DataFrame.\n",
    "    \"\"\"\n",
    "    column_mapping_new = {\n",
    "        \"EFFYDLEV\": \"Level_of_student\",\n",
    "        \"EFYDETOT\": \"All_students_enrolled\"\n",
    "    }\n",
    "\n",
    "    column_mapping_old = {\n",
    "        \"EFDELEV\": \"Level_of_student\",\n",
    "        \"EFDETOT\": \"All_students_enrolled\"\n",
    "    }\n",
    "\n",
    "    final_column_mapping = {\n",
    "        \"Level_of_student\": \"level_of_study\",\n",
    "        \"All_students_enrolled\": \"headcount\"\n",
    "    }\n",
    "\n",
    "    level_mapping = {\n",
    "        1: \"Undergraduate\",\n",
    "        2: \"Graduate\",\n",
    "        99: \"Total\"\n",
    "    }\n",
    "\n",
    "    dataframes = []\n",
    "\n",
    "    for filename in os.listdir(folder_path):\n",
    "        if filename.endswith(\"_dist.csv\"):\n",
    "            if filename.startswith(\"effy\"):\n",
    "                year = int(filename[4:8])\n",
    "                column_mapping = column_mapping_new\n",
    "            elif filename.startswith(\"ef\") and filename.endswith(\"a_dist.csv\"):\n",
    "                year = int(filename[2:6])\n",
    "                column_mapping = column_mapping_old\n",
    "            else:\n",
    "                continue\n",
    "\n",
    "            # print(f\"Processing {filename} for unitid {unitid}\")\n",
    "\n",
    "            iped_csv = pd.read_csv(os.path.join(folder_path, filename))\n",
    "            iped_csv = iped_csv[iped_csv[\"UNITID\"] == unitid]\n",
    "            iped_csv = iped_csv.rename(columns=column_mapping)\n",
    "            iped_csv = iped_csv[list(column_mapping.values())]\n",
    "            iped_csv = iped_csv.rename(columns=final_column_mapping)\n",
    "            iped_csv = iped_csv[iped_csv[\"level_of_study\"].isin(level_mapping.keys())]\n",
    "            iped_csv[\"level_of_study\"] = iped_csv[\"level_of_study\"].replace(level_mapping)\n",
    "            iped_csv[\"year\"] = year\n",
    "            dataframes.append(iped_csv)\n",
    "\n",
    "    if not dataframes:\n",
    "        print(f\"No enrollment data found for unitid {unitid}.\")\n",
    "        return pd.DataFrame()  # Return an empty DataFrame if no data is found\n",
    "\n",
    "    final_df = pd.concat(dataframes, ignore_index=True)\n",
    "\n",
    "    # Add university_name and unitid columns\n",
    "    final_df[\"university_name\"] = get_school_name(unitid)\n",
    "    final_df[\"unitid\"] = unitid\n",
    "\n",
    "    # Reorder columns to move unitid and university_name to the front\n",
    "    column_order = [\"unitid\", \"university_name\"] + [col for col in final_df.columns if col not in [\"unitid\", \"university_name\"]]\n",
    "    final_df = final_df[column_order]\n",
    "\n",
    "    return final_df"
   ]
  },
  {
   "cell_type": "code",
   "execution_count": null,
   "metadata": {},
   "outputs": [
    {
     "name": "stdout",
     "output_type": "stream",
     "text": [
      "All enrollment data saved to: effyYEAR/all_enrollment_data.csv\n"
     ]
    }
   ],
   "source": [
    "# for unitid in NJ_unitid_list:\n",
    "#     process_enrollment_data(unitid)\n",
    "\n",
    "all_data = pd.DataFrame()\n",
    "for unitid in NJ_unitid_list:\n",
    "    unitid_data = process_enrollment_data(unitid)\n",
    "    if not unitid_data.empty:\n",
    "        all_data = pd.concat([all_data, unitid_data], ignore_index=True)\n",
    "\n",
    "output_path = \"effyYEAR/NJ_enrollment_data.csv\"\n",
    "all_data.to_csv(output_path, index=False)\n",
    "\n",
    "print(f\"All enrollment data saved to: {output_path}\")"
   ]
  },
  {
   "cell_type": "markdown",
   "metadata": {},
   "source": [
    "Example chart"
   ]
  },
  {
   "cell_type": "code",
   "execution_count": 3,
   "metadata": {},
   "outputs": [
    {
     "data": {
      "text/plain": [
       "<Figure size 10000x10000 with 0 Axes>"
      ]
     },
     "metadata": {},
     "output_type": "display_data"
    },
    {
     "data": {
      "image/png": "[encoded data removed]",
      "text/plain": [
       "<Figure size 640x480 with 1 Axes>"
      ]
     },
     "metadata": {},
     "output_type": "display_data"
    }
   ],
   "source": [
    "data = pd.read_csv(\"effyYEAR/NJ_enrollment_data.csv\")\n",
    "\n",
    "year = 2023\n",
    "\n",
    "filtered_data = data[data[\"year\"] == year]\n",
    "\n",
    "pivot_data = filtered_data.pivot_table(index=\"university_name\", columns=\"level_of_study\", values=\"headcount\", aggfunc=\"sum\")\n",
    "\n",
    "plt.figure(figsize=(100, 100))\n",
    "pivot_data.plot(kind=\"bar\", stacked=False, colormap=\"winter\")\n",
    "plt.title(f\"Enrollment Comparison Across Institutions for {year}\")\n",
    "plt.xlabel(\"Institution\"); plt.ylabel(\"Headcount\")\n",
    "plt.xticks(rotation=90); plt.legend(title=\"Level of Study\"); plt.tight_layout()\n",
    "plt.show()"
   ]
  },
  {
   "cell_type": "code",
   "execution_count": 14,
   "metadata": {},
   "outputs": [
    {
     "name": "stdout",
     "output_type": "stream",
     "text": [
      "185828 - New Jersey Institute of Technology\n",
      "196079 - Binghamton University\n",
      "126775 - Colorado School of Mines\n",
      "190576 - CUNY Graduate School and University Center\n",
      "155399 - Kansas State University\n",
      "203517 - Kent State University at Kent\n",
      "176080 - Mississippi State University\n",
      "180461 - Montana State University\n",
      "200332 - North Dakota State University-Main Campus\n",
      "207388 - Oklahoma State University-Main Campus\n",
      "232982 - Old Dominion University\n",
      "196060 - SUNY at Albany\n",
      "180489 - The University of Montana\n",
      "228796 - The University of Texas at El Paso\n",
      "100663 - University of Alabama at Birmingham\n",
      "100706 - University of Alabama in Huntsville\n",
      "110714 - University of California-Santa Cruz\n",
      "126562 - University of Colorado Denver/Anschutz Medical Campus\n",
      "130943 - University of Delaware\n",
      "141574 - University of Hawaii at Manoa\n",
      "204857 - Ohio University-Main Campus\n",
      "All enrollment data saved to: effyYEAR/SELECTED_enrollment_data.csv\n"
     ]
    }
   ],
   "source": [
    "unitid_list = [\n",
    "    185828, 196079, 126775, 190576, 155399, 203517, 176080, 180461, 200332, \n",
    "    207388, 232982, 196060, 180489, 228796, 100663, 100706, 110714, 126562, \n",
    "    130943, 141574, 204857\n",
    "]\n",
    "for id in unitid_list:\n",
    "    print(id, \"-\", get_school_name(id))\n",
    "\n",
    "# Process enrollment data for this group of institutions\n",
    "all_data = pd.DataFrame()\n",
    "for unitid in unitid_list:\n",
    "    unitid_data = process_enrollment_data(unitid)\n",
    "    if not unitid_data.empty:\n",
    "        all_data = pd.concat([all_data, unitid_data], ignore_index=True)\n",
    "\n",
    "output_path = \"effyYEAR/SELECTED_enrollment_data.csv\"\n",
    "all_data.to_csv(output_path, index=False)\n",
    "\n",
    "print(f\"All enrollment data saved to: {output_path}\")"
   ]
  },
  {
   "cell_type": "code",
   "execution_count": 54,
   "metadata": {},
   "outputs": [
    {
     "data": {
      "application/vnd.plotly.v1+json": {
       "config": {
        "plotlyServerURL": "https://plot.ly"
       },
       "data": [
        {
         "alignmentgroup": "True",
         "hovertemplate": "Level of Study=Graduate<br>Institution=%{x}<br>Headcount=%{y}<extra></extra>",
         "legendgroup": "Graduate",
         "marker": {
          "color": "#636efa",
          "pattern": {
           "shape": ""
          }
         },
         "name": "Graduate",
         "offsetgroup": "Graduate",
         "orientation": "v",
         "showlegend": true,
         "textposition": "auto",
         "texttemplate": "%{y}",
         "type": "bar",
         "visible": true,
         "x": [
          "Binghamton Univ...",
          "CUNY Graduate S...",
          "Colorado School...",
          "Kansas State Un...",
          "Kent State Univ...",
          "Mississippi Sta...",
          "Montana State U...",
          "New Jersey Inst...",
          "North Dakota St...",
          "Ohio University...",
          "Oklahoma State ...",
          "Old Dominion Un...",
          "SUNY at Albany",
          "The University ...",
          "The University ...",
          "University of A...",
          "University of A...",
          "University of C...",
          "University of C...",
          "University of D...",
          "University of H..."
         ],
         "xaxis": "x",
         "y": [
          14021,
          2287,
          4952,
          17869,
          22557,
          18490,
          14851,
          8532,
          11425,
          22309,
          20597,
          19372,
          13598,
          8306,
          21464,
          13836,
          7671,
          17792,
          16443,
          19956,
          12968
         ],
         "yaxis": "y"
        },
        {
         "alignmentgroup": "True",
         "hovertemplate": "Level of Study=Undergraduate<br>Institution=%{x}<br>Headcount=%{y}<extra></extra>",
         "legendgroup": "Undergraduate",
         "marker": {
          "color": "#EF553B",
          "pattern": {
           "shape": ""
          }
         },
         "name": "Undergraduate",
         "offsetgroup": "Undergraduate",
         "orientation": "v",
         "showlegend": true,
         "textposition": "auto",
         "texttemplate": "%{y}",
         "type": "bar",
         "visible": true,
         "x": [
          "Binghamton Univ...",
          "CUNY Graduate S...",
          "Colorado School...",
          "Kansas State Un...",
          "Kent State Univ...",
          "Mississippi Sta...",
          "Montana State U...",
          "New Jersey Inst...",
          "North Dakota St...",
          "Ohio University...",
          "Oklahoma State ...",
          "Old Dominion Un...",
          "SUNY at Albany",
          "The University ...",
          "The University ...",
          "University of A...",
          "University of A...",
          "University of C...",
          "University of C...",
          "University of D...",
          "University of H..."
         ],
         "xaxis": "x",
         "y": [
          17768,
          8041,
          6325,
          22221,
          28122,
          21974,
          16814,
          11423,
          13796,
          28480,
          24690,
          24176,
          17944,
          10962,
          25151,
          21923,
          9736,
          19700,
          25645,
          24120,
          17710
         ],
         "yaxis": "y"
        },
        {
         "alignmentgroup": "True",
         "hovertemplate": "Level of Study=Graduate<br>university_name=%{x}<br>Headcount=%{y}<extra></extra>",
         "legendgroup": "Graduate",
         "marker": {
          "color": "#636efa",
          "pattern": {
           "shape": ""
          }
         },
         "name": "Graduate",
         "offsetgroup": "Graduate",
         "orientation": "v",
         "showlegend": true,
         "textposition": "auto",
         "texttemplate": "%{y}",
         "type": "bar",
         "visible": false,
         "x": [
          "Binghamton Univ...",
          "CUNY Graduate S...",
          "Colorado School...",
          "Kansas State Un...",
          "Kent State Univ...",
          "Mississippi Sta...",
          "Montana State U...",
          "New Jersey Inst...",
          "North Dakota St...",
          "Ohio University...",
          "Oklahoma State ...",
          "Old Dominion Un...",
          "SUNY at Albany",
          "The University ...",
          "The University ...",
          "University of A...",
          "University of A...",
          "University of C...",
          "University of C...",
          "University of D...",
          "University of H..."
         ],
         "xaxis": "x",
         "y": [
          14021,
          2287,
          4952,
          17869,
          22557,
          18490,
          14851,
          8532,
          11425,
          22309,
          20597,
          19372,
          13598,
          8306,
          21464,
          13836,
          7671,
          17792,
          16443,
          19956,
          12968
         ],
         "yaxis": "y"
        },
        {
         "alignmentgroup": "True",
         "hovertemplate": "Level of Study=Undergraduate<br>university_name=%{x}<br>Headcount=%{y}<extra></extra>",
         "legendgroup": "Undergraduate",
         "marker": {
          "color": "#EF553B",
          "pattern": {
           "shape": ""
          }
         },
         "name": "Undergraduate",
         "offsetgroup": "Undergraduate",
         "orientation": "v",
         "showlegend": true,
         "textposition": "auto",
         "texttemplate": "%{y}",
         "type": "bar",
         "visible": false,
         "x": [
          "Binghamton Univ...",
          "CUNY Graduate S...",
          "Colorado School...",
          "Kansas State Un...",
          "Kent State Univ...",
          "Mississippi Sta...",
          "Montana State U...",
          "New Jersey Inst...",
          "North Dakota St...",
          "Ohio University...",
          "Oklahoma State ...",
          "Old Dominion Un...",
          "SUNY at Albany",
          "The University ...",
          "The University ...",
          "University of A...",
          "University of A...",
          "University of C...",
          "University of C...",
          "University of D...",
          "University of H..."
         ],
         "xaxis": "x",
         "y": [
          17768,
          8041,
          6325,
          22221,
          28122,
          21974,
          16814,
          11423,
          13796,
          28480,
          24690,
          24176,
          17944,
          10962,
          25151,
          21923,
          9736,
          19700,
          25645,
          24120,
          17710
         ],
         "yaxis": "y"
        },
        {
         "alignmentgroup": "True",
         "hovertemplate": "Level of Study=Graduate<br>university_name=%{x}<br>Headcount=%{y}<extra></extra>",
         "legendgroup": "Graduate",
         "marker": {
          "color": "#636efa",
          "pattern": {
           "shape": ""
          }
         },
         "name": "Graduate",
         "offsetgroup": "Graduate",
         "orientation": "v",
         "showlegend": true,
         "textposition": "auto",
         "texttemplate": "%{y}",
         "type": "bar",
         "visible": false,
         "x": [
          "Binghamton Univ...",
          "CUNY Graduate S...",
          "Colorado School...",
          "Kansas State Un...",
          "Kent State Univ...",
          "Mississippi Sta...",
          "Montana State U...",
          "New Jersey Inst...",
          "North Dakota St...",
          "Ohio University...",
          "Oklahoma State ...",
          "Old Dominion Un...",
          "SUNY at Albany",
          "The University ...",
          "The University ...",
          "University of A...",
          "University of A...",
          "University of C...",
          "University of C...",
          "University of D...",
          "University of H..."
         ],
         "xaxis": "x",
         "y": [
          14165,
          2498,
          5156,
          17210,
          22262,
          18792,
          14760,
          8794,
          10831,
          20989,
          20041,
          19176,
          13286,
          7714,
          21427,
          13836,
          7989,
          17517,
          15818,
          19678,
          12631
         ],
         "yaxis": "y"
        },
        {
         "alignmentgroup": "True",
         "hovertemplate": "Level of Study=Undergraduate<br>university_name=%{x}<br>Headcount=%{y}<extra></extra>",
         "legendgroup": "Undergraduate",
         "marker": {
          "color": "#EF553B",
          "pattern": {
           "shape": ""
          }
         },
         "name": "Undergraduate",
         "offsetgroup": "Undergraduate",
         "orientation": "v",
         "showlegend": true,
         "textposition": "auto",
         "texttemplate": "%{y}",
         "type": "bar",
         "visible": false,
         "x": [
          "Binghamton Univ...",
          "CUNY Graduate S...",
          "Colorado School...",
          "Kansas State Un...",
          "Kent State Univ...",
          "Mississippi Sta...",
          "Montana State U...",
          "New Jersey Inst...",
          "North Dakota St...",
          "Ohio University...",
          "Oklahoma State ...",
          "Old Dominion Un...",
          "SUNY at Albany",
          "The University ...",
          "The University ...",
          "University of A...",
          "University of A...",
          "University of C...",
          "University of C...",
          "University of D...",
          "University of H..."
         ],
         "xaxis": "x",
         "y": [
          18124,
          8503,
          6628,
          21719,
          27716,
          22226,
          16692,
          11518,
          13173,
          27367,
          24079,
          23675,
          17544,
          10487,
          25177,
          22080,
          9988,
          19494,
          24910,
          23808,
          17490
         ],
         "yaxis": "y"
        },
        {
         "alignmentgroup": "True",
         "hovertemplate": "Level of Study=Graduate<br>university_name=%{x}<br>Headcount=%{y}<extra></extra>",
         "legendgroup": "Graduate",
         "marker": {
          "color": "#636efa",
          "pattern": {
           "shape": ""
          }
         },
         "name": "Graduate",
         "offsetgroup": "Graduate",
         "orientation": "v",
         "showlegend": true,
         "textposition": "auto",
         "texttemplate": "%{y}",
         "type": "bar",
         "visible": false,
         "x": [
          "Binghamton Univ...",
          "CUNY Graduate S...",
          "Colorado School...",
          "Kansas State Un...",
          "Kent State Univ...",
          "Mississippi Sta...",
          "Montana State U...",
          "New Jersey Inst...",
          "North Dakota St...",
          "Ohio University...",
          "Oklahoma State ...",
          "Old Dominion Un...",
          "SUNY at Albany",
          "The University ...",
          "The University ...",
          "University of A...",
          "University of A...",
          "University of C...",
          "University of C...",
          "University of D...",
          "University of H..."
         ],
         "xaxis": "x",
         "y": [
          15293,
          3616,
          5411,
          18417,
          25459,
          20288,
          16214,
          10275,
          11626,
          23910,
          21688,
          22182,
          15185,
          9259,
          24745,
          14969,
          8898,
          18761,
          20717,
          21869,
          15160
         ],
         "yaxis": "y"
        },
        {
         "alignmentgroup": "True",
         "hovertemplate": "Level of Study=Undergraduate<br>university_name=%{x}<br>Headcount=%{y}<extra></extra>",
         "legendgroup": "Undergraduate",
         "marker": {
          "color": "#EF553B",
          "pattern": {
           "shape": ""
          }
         },
         "name": "Undergraduate",
         "offsetgroup": "Undergraduate",
         "orientation": "v",
         "showlegend": true,
         "textposition": "auto",
         "texttemplate": "%{y}",
         "type": "bar",
         "visible": false,
         "x": [
          "Binghamton Univ...",
          "CUNY Graduate S...",
          "Colorado School...",
          "Kansas State Un...",
          "Kent State Univ...",
          "Mississippi Sta...",
          "Montana State U...",
          "New Jersey Inst...",
          "North Dakota St...",
          "Ohio University...",
          "Oklahoma State ...",
          "Old Dominion Un...",
          "SUNY at Albany",
          "The University ...",
          "The University ...",
          "University of A...",
          "University of A...",
          "University of C...",
          "University of C...",
          "University of D...",
          "University of H..."
         ],
         "xaxis": "x",
         "y": [
          19660,
          10413,
          7092,
          23353,
          32341,
          24449,
          18756,
          13619,
          14384,
          31679,
          26463,
          28042,
          20099,
          12694,
          29556,
          25843,
          11312,
          20861,
          31796,
          26527,
          20702
         ],
         "yaxis": "y"
        },
        {
         "alignmentgroup": "True",
         "hovertemplate": "Level of Study=Graduate<br>university_name=%{x}<br>Headcount=%{y}<extra></extra>",
         "legendgroup": "Graduate",
         "marker": {
          "color": "#636efa",
          "pattern": {
           "shape": ""
          }
         },
         "name": "Graduate",
         "offsetgroup": "Graduate",
         "orientation": "v",
         "showlegend": true,
         "textposition": "auto",
         "texttemplate": "%{y}",
         "type": "bar",
         "visible": false,
         "x": [
          "Binghamton Univ...",
          "CUNY Graduate S...",
          "Colorado School...",
          "Kansas State Un...",
          "Kent State Univ...",
          "Mississippi Sta...",
          "Montana State U...",
          "New Jersey Inst...",
          "North Dakota St...",
          "Ohio University...",
          "Oklahoma State ...",
          "Old Dominion Un...",
          "SUNY at Albany",
          "The University ...",
          "The University ...",
          "University of A...",
          "University of A...",
          "University of C...",
          "University of C...",
          "University of D...",
          "University of H..."
         ],
         "xaxis": "x",
         "y": [
          15586,
          4003,
          5479,
          17454,
          24758,
          20571,
          15822,
          10441,
          11357,
          22202,
          21939,
          22396,
          14932,
          8339,
          24400,
          15675,
          8886,
          18693,
          18670,
          20722,
          15044
         ],
         "yaxis": "y"
        },
        {
         "alignmentgroup": "True",
         "hovertemplate": "Level of Study=Undergraduate<br>university_name=%{x}<br>Headcount=%{y}<extra></extra>",
         "legendgroup": "Undergraduate",
         "marker": {
          "color": "#EF553B",
          "pattern": {
           "shape": ""
          }
         },
         "name": "Undergraduate",
         "offsetgroup": "Undergraduate",
         "orientation": "v",
         "showlegend": true,
         "textposition": "auto",
         "texttemplate": "%{y}",
         "type": "bar",
         "visible": false,
         "x": [
          "Binghamton Univ...",
          "CUNY Graduate S...",
          "Colorado School...",
          "Kansas State Un...",
          "Kent State Univ...",
          "Mississippi Sta...",
          "Montana State U...",
          "New Jersey Inst...",
          "North Dakota St...",
          "Ohio University...",
          "Oklahoma State ...",
          "Old Dominion Un...",
          "SUNY at Albany",
          "The University ...",
          "The University ...",
          "University of A...",
          "University of A...",
          "University of C...",
          "University of C...",
          "University of D...",
          "University of H..."
         ],
         "xaxis": "x",
         "y": [
          19919,
          11223,
          7281,
          22693,
          31555,
          25760,
          18344,
          13687,
          14102,
          30163,
          26947,
          28478,
          20071,
          11821,
          29288,
          26327,
          11318,
          20781,
          30432,
          25695,
          20510
         ],
         "yaxis": "y"
        },
        {
         "alignmentgroup": "True",
         "hovertemplate": "Level of Study=Graduate<br>university_name=%{x}<br>Headcount=%{y}<extra></extra>",
         "legendgroup": "Graduate",
         "marker": {
          "color": "#636efa",
          "pattern": {
           "shape": ""
          }
         },
         "name": "Graduate",
         "offsetgroup": "Graduate",
         "orientation": "v",
         "showlegend": true,
         "textposition": "auto",
         "texttemplate": "%{y}",
         "type": "bar",
         "visible": false,
         "x": [
          "Binghamton Univ...",
          "CUNY Graduate S...",
          "Colorado School...",
          "Kansas State Un...",
          "Kent State Univ...",
          "Mississippi Sta...",
          "Montana State U...",
          "New Jersey Inst...",
          "North Dakota St...",
          "Ohio University...",
          "Oklahoma State ...",
          "Old Dominion Un...",
          "SUNY at Albany",
          "The University ...",
          "The University ...",
          "University of A...",
          "University of A...",
          "University of C...",
          "University of C...",
          "University of D...",
          "University of H..."
         ],
         "xaxis": "x",
         "y": [
          15728,
          3886,
          5767,
          16914,
          24072,
          20237,
          16223,
          10299,
          11001,
          20744,
          21936,
          21437,
          14531,
          8791,
          23530,
          15360,
          8536,
          19313,
          17912,
          20635,
          16113
         ],
         "yaxis": "y"
        },
        {
         "alignmentgroup": "True",
         "hovertemplate": "Level of Study=Undergraduate<br>university_name=%{x}<br>Headcount=%{y}<extra></extra>",
         "legendgroup": "Undergraduate",
         "marker": {
          "color": "#EF553B",
          "pattern": {
           "shape": ""
          }
         },
         "name": "Undergraduate",
         "offsetgroup": "Undergraduate",
         "orientation": "v",
         "showlegend": true,
         "textposition": "auto",
         "texttemplate": "%{y}",
         "type": "bar",
         "visible": false,
         "x": [
          "Binghamton Univ...",
          "CUNY Graduate S...",
          "Colorado School...",
          "Kansas State Un...",
          "Kent State Univ...",
          "Mississippi Sta...",
          "Montana State U...",
          "New Jersey Inst...",
          "North Dakota St...",
          "Ohio University...",
          "Oklahoma State ...",
          "Old Dominion Un...",
          "SUNY at Albany",
          "The University ...",
          "The University ...",
          "University of A...",
          "University of A...",
          "University of C...",
          "University of C...",
          "University of D...",
          "University of H..."
         ],
         "xaxis": "x",
         "y": [
          19938,
          10992,
          7789,
          22569,
          30961,
          25666,
          18880,
          13649,
          13753,
          28464,
          27223,
          27417,
          19585,
          12318,
          28582,
          25963,
          11142,
          21432,
          29833,
          25903,
          21745
         ],
         "yaxis": "y"
        },
        {
         "alignmentgroup": "True",
         "hovertemplate": "Level of Study=Graduate<br>university_name=%{x}<br>Headcount=%{y}<extra></extra>",
         "legendgroup": "Graduate",
         "marker": {
          "color": "#636efa",
          "pattern": {
           "shape": ""
          }
         },
         "name": "Graduate",
         "offsetgroup": "Graduate",
         "orientation": "v",
         "showlegend": true,
         "textposition": "auto",
         "texttemplate": "%{y}",
         "type": "bar",
         "visible": false,
         "x": [
          "Binghamton Univ...",
          "CUNY Graduate S...",
          "Colorado School...",
          "Kansas State Un...",
          "Kent State Univ...",
          "Mississippi Sta...",
          "Montana State U...",
          "New Jersey Inst...",
          "North Dakota St...",
          "Ohio University...",
          "Oklahoma State ...",
          "Old Dominion Un...",
          "SUNY at Albany",
          "The University ...",
          "The University ...",
          "University of A...",
          "University of A...",
          "University of C...",
          "University of C...",
          "University of D...",
          "University of H..."
         ],
         "xaxis": "x",
         "y": [
          15958,
          3916,
          5920,
          16359,
          23408,
          19991,
          16240,
          9945,
          10876,
          20542,
          22490,
          21027,
          13919,
          9160,
          23509,
          14713,
          8021,
          18997,
          18025,
          20874,
          16123
         ],
         "yaxis": "y"
        },
        {
         "alignmentgroup": "True",
         "hovertemplate": "Level of Study=Undergraduate<br>university_name=%{x}<br>Headcount=%{y}<extra></extra>",
         "legendgroup": "Undergraduate",
         "marker": {
          "color": "#EF553B",
          "pattern": {
           "shape": ""
          }
         },
         "name": "Undergraduate",
         "offsetgroup": "Undergraduate",
         "orientation": "v",
         "showlegend": true,
         "textposition": "auto",
         "texttemplate": "%{y}",
         "type": "bar",
         "visible": false,
         "x": [
          "Binghamton Univ...",
          "CUNY Graduate S...",
          "Colorado School...",
          "Kansas State Un...",
          "Kent State Univ...",
          "Mississippi Sta...",
          "Montana State U...",
          "New Jersey Inst...",
          "North Dakota St...",
          "Ohio University...",
          "Oklahoma State ...",
          "Old Dominion Un...",
          "SUNY at Albany",
          "The University ...",
          "The University ...",
          "University of A...",
          "University of A...",
          "University of C...",
          "University of C...",
          "University of D...",
          "University of H..."
         ],
         "xaxis": "x",
         "y": [
          20307,
          10690,
          7872,
          21976,
          29863,
          25193,
          18820,
          13931,
          13385,
          27778,
          27951,
          26975,
          18906,
          12591,
          28323,
          25357,
          10515,
          21109,
          29702,
          26135,
          21615
         ],
         "yaxis": "y"
        }
       ],
       "layout": {
        "barmode": "group",
        "legend": {
         "title": {
          "text": "Level of Study"
         },
         "tracegroupgap": 0
        },
        "template": {
         "data": {
          "bar": [
           {
            "error_x": {
             "color": "#2a3f5f"
            },
            "error_y": {
             "color": "#2a3f5f"
            },
            "marker": {
             "line": {
              "color": "#E5ECF6",
              "width": 0.5
             },
             "pattern": {
              "fillmode": "overlay",
              "size": 10,
              "solidity": 0.2
             }
            },
            "type": "bar"
           }
          ],
          "barpolar": [
           {
            "marker": {
             "line": {
              "color": "#E5ECF6",
              "width": 0.5
             },
             "pattern": {
              "fillmode": "overlay",
              "size": 10,
              "solidity": 0.2
             }
            },
            "type": "barpolar"
           }
          ],
          "carpet": [
           {
            "aaxis": {
             "endlinecolor": "#2a3f5f",
             "gridcolor": "white",
             "linecolor": "white",
             "minorgridcolor": "white",
             "startlinecolor": "#2a3f5f"
            },
            "baxis": {
             "endlinecolor": "#2a3f5f",
             "gridcolor": "white",
             "linecolor": "white",
             "minorgridcolor": "white",
             "startlinecolor": "#2a3f5f"
            },
            "type": "carpet"
           }
          ],
          "choropleth": [
           {
            "colorbar": {
             "outlinewidth": 0,
             "ticks": ""
            },
            "type": "choropleth"
           }
          ],
          "contour": [
           {
            "colorbar": {
             "outlinewidth": 0,
             "ticks": ""
            },
            "colorscale": [
             [
              0,
              "#0d0887"
             ],
             [
              0.1111111111111111,
              "#46039f"
             ],
             [
              0.2222222222222222,
              "#7201a8"
             ],
             [
              0.3333333333333333,
              "#9c179e"
             ],
             [
              0.4444444444444444,
              "#bd3786"
             ],
             [
              0.5555555555555556,
              "#d8576b"
             ],
             [
              0.6666666666666666,
              "#ed7953"
             ],
             [
              0.7777777777777778,
              "#fb9f3a"
             ],
             [
              0.8888888888888888,
              "#fdca26"
             ],
             [
              1,
              "#f0f921"
             ]
            ],
            "type": "contour"
           }
          ],
          "contourcarpet": [
           {
            "colorbar": {
             "outlinewidth": 0,
             "ticks": ""
            },
            "type": "contourcarpet"
           }
          ],
          "heatmap": [
           {
            "colorbar": {
             "outlinewidth": 0,
             "ticks": ""
            },
            "colorscale": [
             [
              0,
              "#0d0887"
             ],
             [
              0.1111111111111111,
              "#46039f"
             ],
             [
              0.2222222222222222,
              "#7201a8"
             ],
             [
              0.3333333333333333,
              "#9c179e"
             ],
             [
              0.4444444444444444,
              "#bd3786"
             ],
             [
              0.5555555555555556,
              "#d8576b"
             ],
             [
              0.6666666666666666,
              "#ed7953"
             ],
             [
              0.7777777777777778,
              "#fb9f3a"
             ],
             [
              0.8888888888888888,
              "#fdca26"
             ],
             [
              1,
              "#f0f921"
             ]
            ],
            "type": "heatmap"
           }
          ],
          "heatmapgl": [
           {
            "colorbar": {
             "outlinewidth": 0,
             "ticks": ""
            },
            "colorscale": [
             [
              0,
              "#0d0887"
             ],
             [
              0.1111111111111111,
              "#46039f"
             ],
             [
              0.2222222222222222,
              "#7201a8"
             ],
             [
              0.3333333333333333,
              "#9c179e"
             ],
             [
              0.4444444444444444,
              "#bd3786"
             ],
             [
              0.5555555555555556,
              "#d8576b"
             ],
             [
              0.6666666666666666,
              "#ed7953"
             ],
             [
              0.7777777777777778,
              "#fb9f3a"
             ],
             [
              0.8888888888888888,
              "#fdca26"
             ],
             [
              1,
              "#f0f921"
             ]
            ],
            "type": "heatmapgl"
           }
          ],
          "histogram": [
           {
            "marker": {
             "pattern": {
              "fillmode": "overlay",
              "size": 10,
              "solidity": 0.2
             }
            },
            "type": "histogram"
           }
          ],
          "histogram2d": [
           {
            "colorbar": {
             "outlinewidth": 0,
             "ticks": ""
            },
            "colorscale": [
             [
              0,
              "#0d0887"
             ],
             [
              0.1111111111111111,
              "#46039f"
             ],
             [
              0.2222222222222222,
              "#7201a8"
             ],
             [
              0.3333333333333333,
              "#9c179e"
             ],
             [
              0.4444444444444444,
              "#bd3786"
             ],
             [
              0.5555555555555556,
              "#d8576b"
             ],
             [
              0.6666666666666666,
              "#ed7953"
             ],
             [
              0.7777777777777778,
              "#fb9f3a"
             ],
             [
              0.8888888888888888,
              "#fdca26"
             ],
             [
              1,
              "#f0f921"
             ]
            ],
            "type": "histogram2d"
           }
          ],
          "histogram2dcontour": [
           {
            "colorbar": {
             "outlinewidth": 0,
             "ticks": ""
            },
            "colorscale": [
             [
              0,
              "#0d0887"
             ],
             [
              0.1111111111111111,
              "#46039f"
             ],
             [
              0.2222222222222222,
              "#7201a8"
             ],
             [
              0.3333333333333333,
              "#9c179e"
             ],
             [
              0.4444444444444444,
              "#bd3786"
             ],
             [
              0.5555555555555556,
              "#d8576b"
             ],
             [
              0.6666666666666666,
              "#ed7953"
             ],
             [
              0.7777777777777778,
              "#fb9f3a"
             ],
             [
              0.8888888888888888,
              "#fdca26"
             ],
             [
              1,
              "#f0f921"
             ]
            ],
            "type": "histogram2dcontour"
           }
          ],
          "mesh3d": [
           {
            "colorbar": {
             "outlinewidth": 0,
             "ticks": ""
            },
            "type": "mesh3d"
           }
          ],
          "parcoords": [
           {
            "line": {
             "colorbar": {
              "outlinewidth": 0,
              "ticks": ""
             }
            },
            "type": "parcoords"
           }
          ],
          "pie": [
           {
            "automargin": true,
            "type": "pie"
           }
          ],
          "scatter": [
           {
            "fillpattern": {
             "fillmode": "overlay",
             "size": 10,
             "solidity": 0.2
            },
            "type": "scatter"
           }
          ],
          "scatter3d": [
           {
            "line": {
             "colorbar": {
              "outlinewidth": 0,
              "ticks": ""
             }
            },
            "marker": {
             "colorbar": {
              "outlinewidth": 0,
              "ticks": ""
             }
            },
            "type": "scatter3d"
           }
          ],
          "scattercarpet": [
           {
            "marker": {
             "colorbar": {
              "outlinewidth": 0,
              "ticks": ""
             }
            },
            "type": "scattercarpet"
           }
          ],
          "scattergeo": [
           {
            "marker": {
             "colorbar": {
              "outlinewidth": 0,
              "ticks": ""
             }
            },
            "type": "scattergeo"
           }
          ],
          "scattergl": [
           {
            "marker": {
             "colorbar": {
              "outlinewidth": 0,
              "ticks": ""
             }
            },
            "type": "scattergl"
           }
          ],
          "scattermapbox": [
           {
            "marker": {
             "colorbar": {
              "outlinewidth": 0,
              "ticks": ""
             }
            },
            "type": "scattermapbox"
           }
          ],
          "scatterpolar": [
           {
            "marker": {
             "colorbar": {
              "outlinewidth": 0,
              "ticks": ""
             }
            },
            "type": "scatterpolar"
           }
          ],
          "scatterpolargl": [
           {
            "marker": {
             "colorbar": {
              "outlinewidth": 0,
              "ticks": ""
             }
            },
            "type": "scatterpolargl"
           }
          ],
          "scatterternary": [
           {
            "marker": {
             "colorbar": {
              "outlinewidth": 0,
              "ticks": ""
             }
            },
            "type": "scatterternary"
           }
          ],
          "surface": [
           {
            "colorbar": {
             "outlinewidth": 0,
             "ticks": ""
            },
            "colorscale": [
             [
              0,
              "#0d0887"
             ],
             [
              0.1111111111111111,
              "#46039f"
             ],
             [
              0.2222222222222222,
              "#7201a8"
             ],
             [
              0.3333333333333333,
              "#9c179e"
             ],
             [
              0.4444444444444444,
              "#bd3786"
             ],
             [
              0.5555555555555556,
              "#d8576b"
             ],
             [
              0.6666666666666666,
              "#ed7953"
             ],
             [
              0.7777777777777778,
              "#fb9f3a"
             ],
             [
              0.8888888888888888,
              "#fdca26"
             ],
             [
              1,
              "#f0f921"
             ]
            ],
            "type": "surface"
           }
          ],
          "table": [
           {
            "cells": {
             "fill": {
              "color": "#EBF0F8"
             },
             "line": {
              "color": "white"
             }
            },
            "header": {
             "fill": {
              "color": "#C8D4E3"
             },
             "line": {
              "color": "white"
             }
            },
            "type": "table"
           }
          ]
         },
         "layout": {
          "annotationdefaults": {
           "arrowcolor": "#2a3f5f",
           "arrowhead": 0,
           "arrowwidth": 1
          },
          "autotypenumbers": "strict",
          "coloraxis": {
           "colorbar": {
            "outlinewidth": 0,
            "ticks": ""
           }
          },
          "colorscale": {
           "diverging": [
            [
             0,
             "#8e0152"
            ],
            [
             0.1,
             "#c51b7d"
            ],
            [
             0.2,
             "#de77ae"
            ],
            [
             0.3,
             "#f1b6da"
            ],
            [
             0.4,
             "#fde0ef"
            ],
            [
             0.5,
             "#f7f7f7"
            ],
            [
             0.6,
             "#e6f5d0"
            ],
            [
             0.7,
             "#b8e186"
            ],
            [
             0.8,
             "#7fbc41"
            ],
            [
             0.9,
             "#4d9221"
            ],
            [
             1,
             "#276419"
            ]
           ],
           "sequential": [
            [
             0,
             "#0d0887"
            ],
            [
             0.1111111111111111,
             "#46039f"
            ],
            [
             0.2222222222222222,
             "#7201a8"
            ],
            [
             0.3333333333333333,
             "#9c179e"
            ],
            [
             0.4444444444444444,
             "#bd3786"
            ],
            [
             0.5555555555555556,
             "#d8576b"
            ],
            [
             0.6666666666666666,
             "#ed7953"
            ],
            [
             0.7777777777777778,
             "#fb9f3a"
            ],
            [
             0.8888888888888888,
             "#fdca26"
            ],
            [
             1,
             "#f0f921"
            ]
           ],
           "sequentialminus": [
            [
             0,
             "#0d0887"
            ],
            [
             0.1111111111111111,
             "#46039f"
            ],
            [
             0.2222222222222222,
             "#7201a8"
            ],
            [
             0.3333333333333333,
             "#9c179e"
            ],
            [
             0.4444444444444444,
             "#bd3786"
            ],
            [
             0.5555555555555556,
             "#d8576b"
            ],
            [
             0.6666666666666666,
             "#ed7953"
            ],
            [
             0.7777777777777778,
             "#fb9f3a"
            ],
            [
             0.8888888888888888,
             "#fdca26"
            ],
            [
             1,
             "#f0f921"
            ]
           ]
          },
          "colorway": [
           "#636efa",
           "#EF553B",
           "#00cc96",
           "#ab63fa",
           "#FFA15A",
           "#19d3f3",
           "#FF6692",
           "#B6E880",
           "#FF97FF",
           "#FECB52"
          ],
          "font": {
           "color": "#2a3f5f"
          },
          "geo": {
           "bgcolor": "white",
           "lakecolor": "white",
           "landcolor": "#E5ECF6",
           "showlakes": true,
           "showland": true,
           "subunitcolor": "white"
          },
          "hoverlabel": {
           "align": "left"
          },
          "hovermode": "closest",
          "mapbox": {
           "style": "light"
          },
          "paper_bgcolor": "white",
          "plot_bgcolor": "#E5ECF6",
          "polar": {
           "angularaxis": {
            "gridcolor": "white",
            "linecolor": "white",
            "ticks": ""
           },
           "bgcolor": "#E5ECF6",
           "radialaxis": {
            "gridcolor": "white",
            "linecolor": "white",
            "ticks": ""
           }
          },
          "scene": {
           "xaxis": {
            "backgroundcolor": "#E5ECF6",
            "gridcolor": "white",
            "gridwidth": 2,
            "linecolor": "white",
            "showbackground": true,
            "ticks": "",
            "zerolinecolor": "white"
           },
           "yaxis": {
            "backgroundcolor": "#E5ECF6",
            "gridcolor": "white",
            "gridwidth": 2,
            "linecolor": "white",
            "showbackground": true,
            "ticks": "",
            "zerolinecolor": "white"
           },
           "zaxis": {
            "backgroundcolor": "#E5ECF6",
            "gridcolor": "white",
            "gridwidth": 2,
            "linecolor": "white",
            "showbackground": true,
            "ticks": "",
            "zerolinecolor": "white"
           }
          },
          "shapedefaults": {
           "line": {
            "color": "#2a3f5f"
           }
          },
          "ternary": {
           "aaxis": {
            "gridcolor": "white",
            "linecolor": "white",
            "ticks": ""
           },
           "baxis": {
            "gridcolor": "white",
            "linecolor": "white",
            "ticks": ""
           },
           "bgcolor": "#E5ECF6",
           "caxis": {
            "gridcolor": "white",
            "linecolor": "white",
            "ticks": ""
           }
          },
          "title": {
           "x": 0.05
          },
          "xaxis": {
           "automargin": true,
           "gridcolor": "white",
           "linecolor": "white",
           "ticks": "",
           "title": {
            "standoff": 15
           },
           "zerolinecolor": "white",
           "zerolinewidth": 2
          },
          "yaxis": {
           "automargin": true,
           "gridcolor": "white",
           "linecolor": "white",
           "ticks": "",
           "title": {
            "standoff": 15
           },
           "zerolinecolor": "white",
           "zerolinewidth": 2
          }
         }
        },
        "title": {
         "text": "Enrollment Comparison Across Institutions for 2018"
        },
        "updatemenus": [
         {
          "buttons": [
           {
            "args": [
             {
              "visible": [
               false,
               false,
               false,
               false
              ]
             },
             {
              "title": "Enrollment Comparison Across Institutions for 2018"
             }
            ],
            "label": "2018",
            "method": "update"
           },
           {
            "args": [
             {
              "visible": [
               false,
               false,
               false,
               false,
               false,
               false
              ]
             },
             {
              "title": "Enrollment Comparison Across Institutions for 2019"
             }
            ],
            "label": "2019",
            "method": "update"
           },
           {
            "args": [
             {
              "visible": [
               false,
               false,
               false,
               false,
               false,
               false,
               false,
               false
              ]
             },
             {
              "title": "Enrollment Comparison Across Institutions for 2020"
             }
            ],
            "label": "2020",
            "method": "update"
           },
           {
            "args": [
             {
              "visible": [
               false,
               false,
               false,
               false,
               false,
               false,
               false,
               false,
               false,
               false
              ]
             },
             {
              "title": "Enrollment Comparison Across Institutions for 2021"
             }
            ],
            "label": "2021",
            "method": "update"
           },
           {
            "args": [
             {
              "visible": [
               false,
               false,
               false,
               false,
               false,
               false,
               false,
               false,
               false,
               false,
               false,
               false
              ]
             },
             {
              "title": "Enrollment Comparison Across Institutions for 2022"
             }
            ],
            "label": "2022",
            "method": "update"
           },
           {
            "args": [
             {
              "visible": [
               false,
               false,
               false,
               false,
               false,
               false,
               false,
               false,
               false,
               false,
               false,
               false,
               false,
               false
              ]
             },
             {
              "title": "Enrollment Comparison Across Institutions for 2023"
             }
            ],
            "label": "2023",
            "method": "update"
           }
          ],
          "direction": "down",
          "showactive": true,
          "x": 0.5,
          "xanchor": "left",
          "y": 1.38,
          "yanchor": "top"
         }
        ],
        "xaxis": {
         "anchor": "y",
         "domain": [
          0,
          1
         ],
         "tickangle": -90,
         "title": {
          "text": "Institution"
         }
        },
        "yaxis": {
         "anchor": "x",
         "domain": [
          0,
          1
         ],
         "title": {
          "text": "Headcount"
         }
        }
       }
      }
     },
     "metadata": {},
     "output_type": "display_data"
    }
   ],
   "source": [
    "\n",
    "data = pd.read_csv(\"effyYEAR/SELECTED_enrollment_data.csv\")\n",
    "\n",
    "years = data[\"year\"].unique()\n",
    "\n",
    "# Create the initial bar chart\n",
    "initial_year = years[0]\n",
    "filtered_data = data[data[\"year\"] == initial_year]\n",
    "pivot_data = filtered_data.pivot_table(index=\"university_name\", columns=\"level_of_study\", values=\"headcount\", aggfunc=\"sum\")\n",
    "pivot_data = pivot_data.reset_index()\n",
    "pivot_data[\"university_name\"] = pivot_data[\"university_name\"].apply(lambda x: x[:15] + \"...\" if len(x) > 15 else x)\n",
    "melted_data = pd.melt(pivot_data, id_vars=[\"university_name\"], var_name=\"Level of Study\", value_name=\"Headcount\")\n",
    "\n",
    "fig = px.bar(melted_data, x=\"university_name\", y=\"Headcount\", color=\"Level of Study\", \n",
    "             title=f\"Enrollment Comparison Across Institutions for {initial_year}\",\n",
    "             labels={\"university_name\": \"Institution\", \"Headcount\": \"Headcount\"},\n",
    "             text_auto=True)\n",
    "\n",
    "\n",
    "fig.update_layout(\n",
    "    xaxis_title=\"Institution\",\n",
    "    yaxis_title=\"Headcount\",\n",
    "    xaxis_tickangle=-90,\n",
    "    legend_title=\"Level of Study\",\n",
    "    barmode='group'\n",
    ")\n",
    "\n",
    "# Create dropdown menu options\n",
    "dropdown_options = []\n",
    "for year in years:\n",
    "    # Filter data for the selected year\n",
    "    filtered_data = data[data[\"year\"] == year]\n",
    "    pivot_data = filtered_data.pivot_table(index=\"university_name\", columns=\"level_of_study\", values=\"headcount\", aggfunc=\"sum\")\n",
    "    pivot_data = pivot_data.reset_index()\n",
    "    pivot_data[\"university_name\"] = pivot_data[\"university_name\"].apply(lambda x: x[:15] + \"...\" if len(x) > 15 else x)\n",
    "    melted_data = pd.melt(pivot_data, id_vars=[\"university_name\"], var_name=\"Level of Study\", value_name=\"Headcount\")\n",
    "    \n",
    "    # Create a new trace for the selected year\n",
    "    new_trace = px.bar(melted_data, x=\"university_name\", y=\"Headcount\", color=\"Level of Study\", \n",
    "                       text_auto=True).data\n",
    "    \n",
    "    # Add the new trace to the figure\n",
    "    for trace in new_trace:\n",
    "        fig.add_trace(trace)\n",
    "    \n",
    "    # Add the dropdown option for the year\n",
    "    dropdown_options.append(\n",
    "        {\n",
    "            \"label\": str(year),\n",
    "            \"method\": \"update\",\n",
    "            \"args\": [\n",
    "                {\"visible\": [False] * len(fig.data)},  # Hide all traces initially\n",
    "                {\"title\": f\"Enrollment Comparison Across Institutions for {year}\"}\n",
    "            ]\n",
    "        }\n",
    "    )\n",
    "\n",
    "# Add dropdown menu to the layout\n",
    "fig.update_layout(\n",
    "    updatemenus=[\n",
    "        {\n",
    "            \"buttons\": dropdown_options,\n",
    "            \"direction\": \"down\",\n",
    "            \"showactive\": True,\n",
    "            \"x\": 0.5,\n",
    "            \"xanchor\": \"left\",\n",
    "            \"y\": 1.38,\n",
    "            \"yanchor\": \"top\"\n",
    "        }\n",
    "    ]\n",
    ")\n",
    "\n",
    "# Initially hide all traces except the first year\n",
    "for i, trace in enumerate(fig.data):\n",
    "    trace.visible = (i < len(fig.data) // len(years))\n",
    "\n",
    "# Show the plot\n",
    "fig.show()"
   ]
  },
  {
   "cell_type": "code",
   "execution_count": null,
   "metadata": {},
   "outputs": [
    {
     "data": {
      "text/html": [
       "\n",
       "        <iframe\n",
       "            width=\"100%\"\n",
       "            height=\"650\"\n",
       "            src=\"http://127.0.0.1:8050/\"\n",
       "            frameborder=\"0\"\n",
       "            allowfullscreen\n",
       "            \n",
       "        ></iframe>\n",
       "        "
      ],
      "text/plain": [
       "<IPython.lib.display.IFrame at 0x20b537fc140>"
      ]
     },
     "metadata": {},
     "output_type": "display_data"
    }
   ],
   "source": [
    "\n",
    "\n",
    "# Load the data\n",
    "data = pd.read_csv(\"effyYEAR/SELECTED_enrollment_data.csv\")\n",
    "\n",
    "# Get unique years from the data\n",
    "years = data[\"year\"].unique()\n",
    "\n",
    "# Initialize the Dash app\n",
    "app = Dash(__name__)\n",
    "\n",
    "# Layout of the app\n",
    "app.layout = html.Div([\n",
    "    dcc.Dropdown(\n",
    "        id=\"year-dropdown\",\n",
    "        options=[{\"label\": str(year), \"value\": year} for year in years],\n",
    "        value=years[0],  # Default value\n",
    "        clearable=False\n",
    "    ),\n",
    "    dcc.Graph(id=\"bar-chart\")\n",
    "])\n",
    "\n",
    "# Callback to update the graph based on the selected year\n",
    "@app.callback(\n",
    "    Output(\"bar-chart\", \"figure\"),\n",
    "    Input(\"year-dropdown\", \"value\")\n",
    ")\n",
    "def update_graph(selected_year):\n",
    "    \"\"\"Update the graph based on the selected year\"\"\"\n",
    "    # Filter data for the selected year\n",
    "    filtered_data = data[data[\"year\"] == selected_year]\n",
    "    pivot_data = filtered_data.pivot_table(index=\"university_name\", columns=\"level_of_study\", values=\"headcount\", aggfunc=\"sum\")\n",
    "    pivot_data = pivot_data.reset_index()\n",
    "    pivot_data[\"university_name\"] = pivot_data[\"university_name\"].apply(lambda x: x[:15] + \"...\" if len(x) > 15 else x)\n",
    "    melted_data = pd.melt(pivot_data, id_vars=[\"university_name\"], var_name=\"Level of Study\", value_name=\"Headcount\")\n",
    "    \n",
    "    # Create the bar chart\n",
    "    fig = px.bar(melted_data, x=\"university_name\", y=\"Headcount\", color=\"Level of Study\", \n",
    "                 title=f\"Enrollment Comparison Across Institutions for {selected_year}\",\n",
    "                 labels={\"university_name\": \"Institution\", \"Headcount\": \"Headcount\"},\n",
    "                 text_auto=True)\n",
    "    \n",
    "    # Update layout for better readability\n",
    "    fig.update_layout(\n",
    "        xaxis_title=\"Institution\",\n",
    "        yaxis_title=\"Headcount\",\n",
    "        xaxis_tickangle=-90,\n",
    "        legend_title=\"Level of Study\",\n",
    "        barmode='group'\n",
    "    )\n",
    "    \n",
    "    return fig\n",
    "\n",
    "# Run the app\n",
    "if __name__ == \"__main__\":\n",
    "    app.run_server(debug=True)"
   ]
  }
 ],
 "metadata": {
  "kernelspec": {
   "display_name": "base",
   "language": "python",
   "name": "python3"
  },
  "language_info": {
   "codemirror_mode": {
    "name": "ipython",
    "version": 3
   },
   "file_extension": ".py",
   "mimetype": "text/x-python",
   "name": "python",
   "nbconvert_exporter": "python",
   "pygments_lexer": "ipython3",
   "version": "3.12.7"
  }
 },
 "nbformat": 4,
 "nbformat_minor": 2
}
